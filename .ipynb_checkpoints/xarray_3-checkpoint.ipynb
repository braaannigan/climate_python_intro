{
 "cells": [
  {
   "cell_type": "markdown",
   "metadata": {},
   "source": [
    "# Xarray\n",
    "\n",
    "Xarray is like a multi-dimensional version of pandas.\n",
    "\n",
    "Xarray is also built for handling netcdf files.\n",
    "\n",
    "Dask is an optional dependancy for xarray.  This allows you to work with model outputs that are bigger than memory in parallel."
   ]
  },
  {
   "cell_type": "code",
   "execution_count": 15,
   "metadata": {},
   "outputs": [
    {
     "name": "stdout",
     "output_type": "stream",
     "text": [
      "  % Total    % Received % Xferd  Average Speed   Time    Time     Time  Current\n",
      "                                 Dload  Upload   Total   Spent    Left  Speed\n",
      "  0     0    0     0    0     0      0      0 --:--:-- --:--:-- --:--:--     0\n",
      "100  749k  100  749k    0     0   444k      0  0:00:01  0:00:01 --:--:-- 3845k\n"
     ]
    }
   ],
   "source": [
    "!curl -L -o newName.zip  https://www.dropbox.com/sh/3joh2zdxgqvblhc/moc_transports.nc?dl=1"
   ]
  },
  {
   "cell_type": "code",
   "execution_count": 28,
   "metadata": {},
   "outputs": [],
   "source": [
    "import xarray as xr\n",
    "import numpy as np\n",
    "import matplotlib.pyplot as plt\n",
    "import lplots.anim as anim\n",
    "\n",
    "%matplotlib inline"
   ]
  },
  {
   "cell_type": "code",
   "execution_count": 35,
   "metadata": {},
   "outputs": [],
   "source": [
    "lon = np.linspace(0,360,360)\n",
    "lat = np.linspace(-90,90,180)\n",
    "Lon, Lat = np.meshgrid(lon, lat)\n",
    "months = np.arange(24)\n",
    "temp = 15 + 10*np.cos(2*np.pi*Lat/360)\n",
    "temp = np.transpose( np.tile(temp,(len(months),1,1)), (2,1,0) )\n",
    "for mon in months:\n",
    "    temp[:,:,mon] = temp[:,:,mon] -5*np.sin(2 * np.pi * mon/12)*np.sin(2*np.pi*Lat.T/360)\n",
    "    #plt.pcolormesh(Lon.T, Lat.T, temp[:,:,mon],vmin = 10, vmax = 26)\n",
    "    #plt.show()"
   ]
  },
  {
   "cell_type": "code",
   "execution_count": 40,
   "metadata": {},
   "outputs": [],
   "source": [
    "ds = xr.DataArray(temp, coords=[lon,lat, months], dims = ['lon','lat','time'])\n",
    "ds.to_netcdf('temp_array')"
   ]
  },
  {
   "cell_type": "code",
   "execution_count": 41,
   "metadata": {},
   "outputs": [],
   "source": [
    "ds = xr.open_dataset('temp_array')"
   ]
  },
  {
   "cell_type": "markdown",
   "metadata": {},
   "source": [
    "- The labelling means that we don't have to remember in which order x/y/z/t are stored."
   ]
  },
  {
   "cell_type": "code",
   "execution_count": 53,
   "metadata": {},
   "outputs": [],
   "source": [
    "import xarray as xr\n",
    "import numpy as np\n",
    "import pandas as pd\n",
    "import seaborn as sns # pandas aware plotting library\n",
    "\n",
    "np.random.seed(123)\n",
    "\n",
    "times = pd.date_range('2000-01-01', '2001-12-31', name='time',freq='M')\n",
    "annual_cycle = np.sin(2 * np.pi * (times.dayofyear.values / 365.25 - 0.28))\n",
    "\n",
    "lon = np.linspace(0,360,360)\n",
    "lat = np.linspace(-90,90,180)\n",
    "Lon, Lat = np.meshgrid(lon, lat)\n",
    "months = np.arange(24)\n",
    "temp = 15 + 10*np.cos(2*np.pi*Lat/360)\n",
    "\n",
    "temp = np.transpose( np.tile(temp,(len(months),1,1)), (1,2,0) )\n",
    "for idx,mon in enumerate( times ):\n",
    "    temp[:,:,idx] = temp[:,:,idx] -5*annual_cycle[idx]*np.sin(2*np.pi*Lat/360)*np.sin(2*np.pi*Lon/360)\n",
    "\n",
    "ds = xr.Dataset({'temperature': (('lat', 'lon', 'time'), temp)},\n",
    "                {'time': times, 'lon': lon, 'lat':lat})"
   ]
  },
  {
   "cell_type": "code",
   "execution_count": 51,
   "metadata": {},
   "outputs": [
    {
     "data": {
      "text/plain": [
       "<xarray.Dataset>\n",
       "Dimensions:      (lat: 180, lon: 360, time: 24)\n",
       "Coordinates:\n",
       "  * time         (time) datetime64[ns] 2000-01-31 2000-02-29 2000-03-31 ...\n",
       "  * lon          (lon) float64 0.0 1.003 2.006 3.008 4.011 5.014 6.017 7.019 ...\n",
       "  * lat          (lat) float64 -90.0 -88.99 -87.99 -86.98 -85.98 -84.97 ...\n",
       "Data variables:\n",
       "    temperature  (lat, lon, time) float64 10.29 11.68 14.04 16.58 18.77 19.9 ..."
      ]
     },
     "execution_count": 51,
     "metadata": {},
     "output_type": "execute_result"
    }
   ],
   "source": [
    "ds"
   ]
  },
  {
   "cell_type": "code",
   "execution_count": 55,
   "metadata": {},
   "outputs": [
    {
     "data": {
      "image/png": "[encoded data removed]",
      "text/plain": [
       "<matplotlib.figure.Figure at 0x7f534c6bb5c0>"
      ]
     },
     "metadata": {},
     "output_type": "display_data"
    }
   ],
   "source": [
    "ds.temperature.mean(dim = 'time').plot()\n",
    "plt.show()"
   ]
  },
  {
   "cell_type": "code",
   "execution_count": null,
   "metadata": {},
   "outputs": [],
   "source": []
  }
 ],
 "metadata": {
  "kernelspec": {
   "display_name": "base3",
   "language": "python",
   "name": "base3"
  },
  "language_info": {
   "codemirror_mode": {
    "name": "ipython",
    "version": 3
   },
   "file_extension": ".py",
   "mimetype": "text/x-python",
   "name": "python",
   "nbconvert_exporter": "python",
   "pygments_lexer": "ipython3",
   "version": "3.6.2"
  }
 },
 "nbformat": 4,
 "nbformat_minor": 2
}
