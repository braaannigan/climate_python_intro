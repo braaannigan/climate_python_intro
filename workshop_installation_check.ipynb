{
 "cells": [
  {
   "cell_type": "code",
   "execution_count": 1,
   "metadata": {},
   "outputs": [],
   "source": [
    "import sys\n",
    "import pandas as pd\n",
    "import numpy as np\n",
    "import numba\n",
    "import matplotlib\n",
    "import seaborn as sns\n",
    "import holoviews as hv\n",
    "import dask\n",
    "import xarray as xr"
   ]
  },
  {
   "cell_type": "code",
   "execution_count": 10,
   "metadata": {},
   "outputs": [
    {
     "name": "stdout",
     "output_type": "stream",
     "text": [
      "Python version is ok\n",
      "Pandas version is ok\n",
      "NumPy version is ok\n",
      "Matplotlib version is ok\n",
      "Numba version is ok\n",
      "Seaborn version is ok\n",
      "Dask version is ok\n",
      "Xarray version is ok\n",
      "Holoviews version is ok\n"
     ]
    }
   ],
   "source": [
    "if float(sys.version[:3]) >= 3.6:\n",
    "    print('Python version is ok')\n",
    "else:\n",
    "    print('PROBLEM: Python version is {}, but needs to be 3.6 or higher'.format(sys.version[:6]))\n",
    "\n",
    "\n",
    "if int(pd.__version__[2:4]) >= 20:\n",
    "    print('Pandas version is ok')\n",
    "else:\n",
    "    print('PROBLEM: Pandas version is {}, but needs to be 0.20 or higher'.format(pd.__version__))\n",
    "        \n",
    "if int(np.__version__[2:4]) >= 13:\n",
    "    print('NumPy version is ok')\n",
    "else:\n",
    "    print('PROBLEM: NumPy version is {}, but needs to be 0.13 or higher'.format(np.__version__))\n",
    "\n",
    "if int(matplotlib.__version__[0]) >= 2:\n",
    "    print('Matplotlib version is ok')\n",
    "else:\n",
    "    print('PROBLEM: Matplotlib version is {}, but needs to be 2 or higher'.format(matplotlib.__version__))\n",
    "\n",
    "if int(numba.__version__[2:4]) >= 35:\n",
    "    print('Numba version is ok')\n",
    "else:\n",
    "    print('PROBLEM: Numba version is {}, but needs to be 0.35 or higher'.format(numba.__version__))\n",
    "\n",
    "\n",
    "if int(sns.__version__[2]) >= 8:\n",
    "    print('Seaborn version is ok')\n",
    "else:\n",
    "    print('PROBLEM: Seaborn version is {}, but needs to be 0.8 or higher'.format(sns.__version__))\n",
    "\n",
    "if int(dask.__version__[2:4]) >= 15:\n",
    "    print('Dask version is ok')\n",
    "else:\n",
    "    print('PROBLEM: Dask version is {}, but needs to be 0.15 or higher'.format(dask.__version__))\n",
    "\n",
    "if int(xr.__version__[2]) >= 9:\n",
    "    print('Xarray version is ok')\n",
    "else:\n",
    "    print('PROBLEM: Xarray version is {}, but needs to be 0.9 or higher'.format(xr.__version__))\n",
    "\n",
    "if int(str(hv.__version__)[2]) >= 8:\n",
    "    print('Holoviews version is ok')\n",
    "else:\n",
    "    print('PROBLEM: Holoviews version is {}, but needs to be 1.8 or higher'.format(hv.__version__))"
   ]
  },
  {
   "cell_type": "code",
   "execution_count": 3,
   "metadata": {},
   "outputs": [
    {
     "data": {
      "text/plain": [
       "'0.35.0'"
      ]
     },
     "execution_count": 3,
     "metadata": {},
     "output_type": "execute_result"
    }
   ],
   "source": []
  },
  {
   "cell_type": "code",
   "execution_count": null,
   "metadata": {
    "collapsed": true
   },
   "outputs": [],
   "source": []
  }
 ],
 "metadata": {
  "kernelspec": {
   "display_name": "python work3",
   "language": "python",
   "name": "work3"
  },
  "language_info": {
   "codemirror_mode": {
    "name": "ipython",
    "version": 3
   },
   "file_extension": ".py",
   "mimetype": "text/x-python",
   "name": "python",
   "nbconvert_exporter": "python",
   "pygments_lexer": "ipython3",
   "version": "3.6.1"
  }
 },
 "nbformat": 4,
 "nbformat_minor": 2
}
